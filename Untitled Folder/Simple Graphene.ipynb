{
 "cells": [
  {
   "cell_type": "code",
   "execution_count": 3,
   "metadata": {},
   "outputs": [],
   "source": [
    "import graphene\n",
    "\n",
    "class Patron(graphene.ObjectType):\n",
    "    id = graphene.ID()\n",
    "    name = graphene.String()\n",
    "    age = graphene.Int()\n",
    "\n",
    "\n",
    "class Query(graphene.ObjectType):\n",
    "\n",
    "    patron = graphene.Field(Patron)\n",
    "\n",
    "    def resolve_patron(self, info):\n",
    "        return Patron(id=1, name=\"Syrus\", age=27)\n",
    "\n",
    "\n",
    "schema = graphene.Schema(query=Query)\n",
    "query = \"\"\"\n",
    "    query misch{\n",
    "      patron {\n",
    "        id\n",
    "        name\n",
    "        age\n",
    "      }\n",
    "    }\n",
    "\"\"\"\n",
    "\n",
    "\n",
    "def test_query():\n",
    "    result = schema.execute(query)\n",
    "    assert not result.errors\n",
    "    assert result.data == {\"patron\": {\"id\": \"1\", \"name\": \"Syrus\", \"age\": 27}}"
   ]
  },
  {
   "cell_type": "code",
   "execution_count": 4,
   "metadata": {},
   "outputs": [
    {
     "name": "stdout",
     "output_type": "stream",
     "text": [
      "OrderedDict([('id', '1'), ('name', 'Syrus'), ('age', 27)])\n"
     ]
    }
   ],
   "source": [
    "result = schema.execute(query)\n",
    "print(result.data[\"patron\"])"
   ]
  },
  {
   "cell_type": "code",
   "execution_count": 5,
   "metadata": {},
   "outputs": [],
   "source": [
    "class Patron(graphene.ObjectType):\n",
    "    id = graphene.ID()\n",
    "    name = graphene.String()\n",
    "    age = graphene.Int()"
   ]
  },
  {
   "cell_type": "code",
   "execution_count": 39,
   "metadata": {},
   "outputs": [
    {
     "name": "stdout",
     "output_type": "stream",
     "text": [
      "OrderedDict([('errors', [{'message': 'Unknown argument \"date_from\" on field \"logs\" of type \"LogQuery\".', 'locations': [{'line': 3, 'column': 13}]}, {'message': 'Unknown argument \"date_to\" on field \"logs\" of type \"LogQuery\".', 'locations': [{'line': 3, 'column': 35}]}, {'message': 'Variable \"$DateFrom\" is not defined by operation \"logs\".', 'locations': [{'line': 3, 'column': 24}, {'line': 2, 'column': 5}]}, {'message': 'Variable \"$DateTo\" is not defined by operation \"logs\".', 'locations': [{'line': 3, 'column': 44}, {'line': 2, 'column': 5}]}, {'message': 'Variable \"$dateFrom\" is never used in operation \"logs\".', 'locations': [{'line': 2, 'column': 16}]}, {'message': 'Variable \"$dateTo\" is never used in operation \"logs\".', 'locations': [{'line': 2, 'column': 34}]}])])\n"
     ]
    }
   ],
   "source": [
    "from datetime import datetime\n",
    "from graphql.execution.base import ResolveInfo\n",
    "\n",
    "class Log(graphene.ObjectType):\n",
    "    date_from = graphene.Date()\n",
    "    date_to = graphene.Date()\n",
    "    \n",
    "    hostIP = graphene.String()\n",
    "    timestamp = graphene.Int()\n",
    "    verb = graphene.String()\n",
    "    path = graphene.String()\n",
    "    code = graphene.Int()\n",
    "    user_agent = graphene.String()\n",
    "\n",
    "\n",
    "\n",
    "    \n",
    "class LogQuery(graphene.ObjectType):\n",
    "\n",
    "    logs = graphene.Field(Log)\n",
    "\n",
    "    def resolve_logs(self, info: ResolveInfo):\n",
    "        # print( {k: getattr(info, str(k)) for k in info.__slots__})\n",
    "\n",
    "        \n",
    "        return Log(hostIP='127.0.0.1', verb='GET', timestamp=datetime.now(), \n",
    "                   path='/favicon.ico', code=200, user_agent='Mozilla')\n",
    "\n",
    "schema = graphene.Schema(query=LogQuery)\n",
    "query = \"\"\"\n",
    "    query logs($dateFrom: Date!, $dateTo: Date!){\n",
    "      logs (date_from: $DateFrom, date_to: $DateTo) {\n",
    "        hostIP\n",
    "        verb\n",
    "      }\n",
    "    }\n",
    "\"\"\"\n",
    "result = schema.execute(query)\n",
    "print(result.to_dict())"
   ]
  },
  {
   "cell_type": "code",
   "execution_count": null,
   "metadata": {},
   "outputs": [],
   "source": []
  },
  {
   "cell_type": "code",
   "execution_count": null,
   "metadata": {},
   "outputs": [],
   "source": []
  }
 ],
 "metadata": {
  "kernelspec": {
   "display_name": "Python 3",
   "language": "python",
   "name": "python3"
  },
  "language_info": {
   "codemirror_mode": {
    "name": "ipython",
    "version": 3
   },
   "file_extension": ".py",
   "mimetype": "text/x-python",
   "name": "python",
   "nbconvert_exporter": "python",
   "pygments_lexer": "ipython3",
   "version": "3.7.5"
  }
 },
 "nbformat": 4,
 "nbformat_minor": 2
}
