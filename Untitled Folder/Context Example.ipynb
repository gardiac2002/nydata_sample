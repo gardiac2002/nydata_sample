{
 "cells": [
  {
   "cell_type": "code",
   "execution_count": 5,
   "metadata": {},
   "outputs": [],
   "source": [
    "\n",
    "start_query = \"\"\"query logs ($dateFrom: Date!, $dateTo: Date!) {\n",
    "                    logs (dateFrom: \"2018-12-11\", dateTo: \"2019-12-30\") {\n",
    "                        name\n",
    "                    }\n",
    "                }    \n",
    "\"\"\""
   ]
  },
  {
   "cell_type": "code",
   "execution_count": 128,
   "metadata": {},
   "outputs": [],
   "source": [
    "\n",
    "from datetime import datetime\n",
    "\n",
    "import graphene\n",
    "from graphene.test import Client\n",
    "\n",
    "    \n",
    "class Log(graphene.ObjectType):\n",
    "\n",
    "    hostIP = graphene.String()\n",
    "    timestamp = graphene.Int()\n",
    "    verb = graphene.String()\n",
    "    path = graphene.String()\n",
    "    code = graphene.Int()\n",
    "    userAgent = graphene.String()\n",
    "    \n",
    "    \n",
    "class Query(graphene.ObjectType):\n",
    "    \n",
    "    logs = graphene.List(Log, \n",
    "                          date_from=graphene.Date(required=True), \n",
    "                          date_to=graphene.Date(required=True))\n",
    "\n",
    "    def resolve_logs(self, info, date_from, date_to, *args, **kwargs):\n",
    "                \n",
    "        print(f'ARGS: {args}')\n",
    "        print(f'KWARGS: {date_from}')\n",
    "        \n",
    "        log1 = Log(hostIP='127.0.0.1', timestamp=int(datetime.now().timestamp()), \n",
    "                   verb='GET', path='/', code=200, userAgent='Mozilla')\n",
    "        \n",
    "        log2 = Log(hostIP='127.0.0.2', timestamp=int(datetime.now().timestamp()), \n",
    "                   verb='GET', path='/', code=200, userAgent='Mozilla')\n",
    "        \n",
    "        return [log1, log2]\n",
    "        # return info.context[\"user\"]\n",
    "\n",
    "schema = graphene.Schema(query=Query, auto_camelcase=False)\n",
    "client = Client(schema)"
   ]
  },
  {
   "cell_type": "code",
   "execution_count": 129,
   "metadata": {},
   "outputs": [
    {
     "name": "stdout",
     "output_type": "stream",
     "text": [
      "ARGS: ()\n",
      "KWARGS: 2018-11-11\n"
     ]
    },
    {
     "data": {
      "text/plain": [
       "{'data': OrderedDict([('logs',\n",
       "               [OrderedDict([('hostIP', '127.0.0.1'),\n",
       "                             ('timestamp', 1575813107),\n",
       "                             ('verb', 'GET'),\n",
       "                             ('path', '/'),\n",
       "                             ('code', 200),\n",
       "                             ('userAgent', 'Mozilla')]),\n",
       "                OrderedDict([('hostIP', '127.0.0.2'),\n",
       "                             ('timestamp', 1575813107),\n",
       "                             ('verb', 'GET'),\n",
       "                             ('path', '/'),\n",
       "                             ('code', 200),\n",
       "                             ('userAgent', 'Mozilla')])])])}"
      ]
     },
     "execution_count": 129,
     "metadata": {},
     "output_type": "execute_result"
    }
   ],
   "source": [
    "client_query = '''query logs($dateFrom: Date!, $dateTo: Date!) { \n",
    "                            logs (date_from: $dateFrom, date_to: $dateTo) { \n",
    "                                hostIP \n",
    "                                timestamp \n",
    "                                verb \n",
    "                                path \n",
    "                                code \n",
    "                                userAgent \n",
    "                            }\n",
    "                        }'''\n",
    "\n",
    "client.execute(client_query, variables={'dateFrom': '2018-11-11', 'dateTo': '2017-11-11'})"
   ]
  },
  {
   "cell_type": "code",
   "execution_count": 102,
   "metadata": {},
   "outputs": [
    {
     "data": {
      "text/plain": [
       "'\\nhostIP\\ntimestamp\\nverb\\npath\\ncode\\nuserAgent'"
      ]
     },
     "execution_count": 102,
     "metadata": {},
     "output_type": "execute_result"
    }
   ],
   "source": [
    "'''\n",
    "hostIP\n",
    "timestamp\n",
    "verb\n",
    "path\n",
    "code\n",
    "userAgent'''"
   ]
  },
  {
   "cell_type": "code",
   "execution_count": 84,
   "metadata": {},
   "outputs": [],
   "source": [
    "graphene.Enum?"
   ]
  },
  {
   "cell_type": "code",
   "execution_count": 99,
   "metadata": {},
   "outputs": [],
   "source": [
    "graphene.List?"
   ]
  },
  {
   "cell_type": "code",
   "execution_count": 106,
   "metadata": {},
   "outputs": [],
   "source": []
  },
  {
   "cell_type": "code",
   "execution_count": 112,
   "metadata": {},
   "outputs": [],
   "source": [
    "get = HttpMethodEnum('GET')"
   ]
  },
  {
   "cell_type": "code",
   "execution_count": 115,
   "metadata": {},
   "outputs": [
    {
     "data": {
      "text/plain": [
       "'GET'"
      ]
     },
     "execution_count": 115,
     "metadata": {},
     "output_type": "execute_result"
    }
   ],
   "source": [
    "get.name"
   ]
  },
  {
   "cell_type": "code",
   "execution_count": 133,
   "metadata": {},
   "outputs": [],
   "source": [
    "from graphene_sqlalchemy import SQLAlchemyObjectType\n",
    "\n",
    "\n"
   ]
  },
  {
   "cell_type": "code",
   "execution_count": 141,
   "metadata": {},
   "outputs": [
    {
     "data": {
      "text/plain": [
       "'2019-12-08'"
      ]
     },
     "execution_count": 141,
     "metadata": {},
     "output_type": "execute_result"
    }
   ],
   "source": [
    "from datetime import datetime, timedelta\n",
    "datetime.now().strftime('%Y-%m-%d')"
   ]
  },
  {
   "cell_type": "code",
   "execution_count": 142,
   "metadata": {},
   "outputs": [
    {
     "data": {
      "text/plain": [
       "datetime.datetime(2019, 12, 7, 17, 20, 47, 762763)"
      ]
     },
     "execution_count": 142,
     "metadata": {},
     "output_type": "execute_result"
    }
   ],
   "source": [
    "datetime.now() - timedelta(days=1)"
   ]
  },
  {
   "cell_type": "code",
   "execution_count": null,
   "metadata": {},
   "outputs": [],
   "source": []
  }
 ],
 "metadata": {
  "kernelspec": {
   "display_name": "Python 3",
   "language": "python",
   "name": "python3"
  },
  "language_info": {
   "codemirror_mode": {
    "name": "ipython",
    "version": 3
   },
   "file_extension": ".py",
   "mimetype": "text/x-python",
   "name": "python",
   "nbconvert_exporter": "python",
   "pygments_lexer": "ipython3",
   "version": "3.7.5"
  }
 },
 "nbformat": 4,
 "nbformat_minor": 2
}
