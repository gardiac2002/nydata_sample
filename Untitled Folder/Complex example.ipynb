{
 "cells": [
  {
   "cell_type": "code",
   "execution_count": 4,
   "metadata": {},
   "outputs": [
    {
     "name": "stdout",
     "output_type": "stream",
     "text": [
      "(32.2,12.0)\n"
     ]
    }
   ],
   "source": [
    "import graphene\n",
    "\n",
    "\n",
    "class GeoInput(graphene.InputObjectType):\n",
    "    lat = graphene.Float(required=True)\n",
    "    lng = graphene.Float(required=True)\n",
    "\n",
    "    @property\n",
    "    def latlng(self):\n",
    "        return \"({},{})\".format(self.lat, self.lng)\n",
    "\n",
    "\n",
    "class Address(graphene.ObjectType):\n",
    "    latlng = graphene.String()\n",
    "\n",
    "\n",
    "class Query(graphene.ObjectType):\n",
    "    address = graphene.Field(Address, geo=GeoInput(required=True))\n",
    "\n",
    "    def resolve_address(self, info, geo):\n",
    "        return Address(latlng=geo.latlng)\n",
    "\n",
    "\n",
    "class CreateAddress(graphene.Mutation):\n",
    "    class Arguments:\n",
    "        geo = GeoInput(required=True)\n",
    "\n",
    "    Output = Address\n",
    "\n",
    "    def mutate(self, info, geo):\n",
    "        return Address(latlng=geo.latlng)\n",
    "\n",
    "\n",
    "schema = graphene.Schema(query=Query)\n",
    "query = \"\"\"\n",
    "    query something{\n",
    "      address(geo: {lat:32.2, lng:12}) {\n",
    "        latlng\n",
    "      }\n",
    "    }\n",
    "\"\"\"\n",
    "\n",
    "result = schema.execute(query)\n",
    "print(result.data[\"address\"][\"latlng\"])"
   ]
  },
  {
   "cell_type": "code",
   "execution_count": null,
   "metadata": {},
   "outputs": [],
   "source": []
  }
 ],
 "metadata": {
  "kernelspec": {
   "display_name": "Python 3",
   "language": "python",
   "name": "python3"
  },
  "language_info": {
   "codemirror_mode": {
    "name": "ipython",
    "version": 3
   },
   "file_extension": ".py",
   "mimetype": "text/x-python",
   "name": "python",
   "nbconvert_exporter": "python",
   "pygments_lexer": "ipython3",
   "version": "3.7.5"
  }
 },
 "nbformat": 4,
 "nbformat_minor": 2
}
