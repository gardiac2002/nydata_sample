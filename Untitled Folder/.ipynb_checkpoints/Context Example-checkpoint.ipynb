{
 "cells": [
  {
   "cell_type": "code",
   "execution_count": 5,
   "metadata": {},
   "outputs": [],
   "source": [
    "\n",
    "start_query = \"\"\"query logs ($dateFrom: Date!, $dateTo: Date!) {\n",
    "                    logs (dateFrom: \"2018-12-11\", dateTo: \"2019-12-30\") {\n",
    "                        name\n",
    "                    }\n",
    "                }    \n",
    "\"\"\""
   ]
  },
  {
   "cell_type": "code",
   "execution_count": 10,
   "metadata": {},
   "outputs": [
    {
     "name": "stdout",
     "output_type": "stream",
     "text": [
      "None\n",
      "OrderedDict([('really', OrderedDict([('name', 'Console')]))])\n"
     ]
    }
   ],
   "source": [
    "\n",
    "import graphene\n",
    "\n",
    "class User(graphene.ObjectType):\n",
    "    id = graphene.ID()\n",
    "    name = graphene.String()\n",
    "\n",
    "    \n",
    "class Query(graphene.ObjectType):\n",
    "    date_from = graphene.Date()\n",
    "    \n",
    "    really = graphene.Field(User, \n",
    "                          dateFrom=graphene.Date(required=False), \n",
    "                          dateTo=graphene.Date(required=False))\n",
    "\n",
    "    def resolve_really(self, info, *args, **kwargs):\n",
    "        print(f'ARGS: {args}')\n",
    "        print(f'KWARGS: {kwargs}')\n",
    "\n",
    "        return info.context[\"user\"]\n",
    "\n",
    "\n",
    "real_query= \"\"\"query alo ($misch: Date, $plantee: Date) {\n",
    "                    really (dateFrom: $misch, dateTo: $plantee) {\n",
    "                        name\n",
    "                    }\n",
    "                }\n",
    "\"\"\"\n",
    "\n",
    "schema = graphene.Schema(query=Query)\n",
    "result = schema.execute(real_query, context={\"user\": User(id=\"X\", name=\"Console\")})\n",
    "print(result.errors)\n",
    "\n",
    "print(result.data)"
   ]
  },
  {
   "cell_type": "code",
   "execution_count": null,
   "metadata": {},
   "outputs": [],
   "source": []
  },
  {
   "cell_type": "code",
   "execution_count": null,
   "metadata": {},
   "outputs": [],
   "source": []
  }
 ],
 "metadata": {
  "kernelspec": {
   "display_name": "Python 3",
   "language": "python",
   "name": "python3"
  },
  "language_info": {
   "codemirror_mode": {
    "name": "ipython",
    "version": 3
   },
   "file_extension": ".py",
   "mimetype": "text/x-python",
   "name": "python",
   "nbconvert_exporter": "python",
   "pygments_lexer": "ipython3",
   "version": "3.7.5"
  }
 },
 "nbformat": 4,
 "nbformat_minor": 2
}
